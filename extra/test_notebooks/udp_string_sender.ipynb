{
 "cells": [
  {
   "cell_type": "code",
   "execution_count": 1,
   "metadata": {},
   "outputs": [
    {
     "name": "stdout",
     "output_type": "stream",
     "text": [
      "Sending message to 78e36d186274.local:12345\n",
      "Message sent!\n",
      "Received response: Hello from ESP32 at 78e36d186274.local from ('192.168.1.72', 12345)\n"
     ]
    }
   ],
   "source": [
    "import socket\n",
    "\n",
    "# Replace with the ESP32's hostname (based on its MAC address)\n",
    "esp32_hostname = \"78e36d186274.local\"  # Replace with your ESP32 MAC hostname\n",
    "esp32_port = 12345                     # Port to send data to\n",
    "\n",
    "# Create a UDP socket\n",
    "sock = socket.socket(socket.AF_INET, socket.SOCK_DGRAM)\n",
    "\n",
    "# Data to send\n",
    "message = \"Hello ESP32, this is a test message!\"\n",
    "\n",
    "try:\n",
    "    print(f\"Sending message to {esp32_hostname}:{esp32_port}\")\n",
    "    sock.sendto(message.encode('utf-8'), (esp32_hostname, esp32_port))\n",
    "    print(\"Message sent!\")\n",
    "\n",
    "    # Optionally receive a response\n",
    "    sock.settimeout(5)  # Wait up to 5 seconds for a response\n",
    "    data, server = sock.recvfrom(1024)\n",
    "    print(f\"Received response: {data.decode('utf-8')} from {server}\")\n",
    "except socket.timeout:\n",
    "    print(\"No response received.\")\n",
    "finally:\n",
    "    sock.close()\n"
   ]
  }
 ],
 "metadata": {
  "kernelspec": {
   "display_name": "Python 3",
   "language": "python",
   "name": "python3"
  },
  "language_info": {
   "codemirror_mode": {
    "name": "ipython",
    "version": 3
   },
   "file_extension": ".py",
   "mimetype": "text/x-python",
   "name": "python",
   "nbconvert_exporter": "python",
   "pygments_lexer": "ipython3",
   "version": "3.10.12"
  }
 },
 "nbformat": 4,
 "nbformat_minor": 2
}
