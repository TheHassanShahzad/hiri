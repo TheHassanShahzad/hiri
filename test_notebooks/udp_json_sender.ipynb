{
 "cells": [
  {
   "cell_type": "code",
   "execution_count": 1,
   "metadata": {},
   "outputs": [
    {
     "name": "stdout",
     "output_type": "stream",
     "text": [
      "Sending JSON to 78e36d186274.local:12345\n",
      "JSON sent!\n",
      "Received response: JSON received and parsed by ESP32 at 78e36d186274.local from ('192.168.1.72', 12345)\n"
     ]
    }
   ],
   "source": [
    "import socket\n",
    "import json\n",
    "\n",
    "# Replace with the ESP32's hostname (based on its MAC address)\n",
    "esp32_hostname = \"78e36d186274.local\"  # Replace with your ESP32's hostname\n",
    "esp32_port = 12345                     # Port to send data to\n",
    "\n",
    "# Create the JSON payload\n",
    "json_data = {\n",
    "    \"command\": \"LED_ON\",\n",
    "    \"pin\": 5,\n",
    "    \"duration\": 1000  # in milliseconds\n",
    "}\n",
    "\n",
    "# Serialize the JSON data\n",
    "message = json.dumps(json_data)\n",
    "\n",
    "# Create a UDP socket\n",
    "sock = socket.socket(socket.AF_INET, socket.SOCK_DGRAM)\n",
    "\n",
    "try:\n",
    "    print(f\"Sending JSON to {esp32_hostname}:{esp32_port}\")\n",
    "    sock.sendto(message.encode('utf-8'), (esp32_hostname, esp32_port))\n",
    "    print(\"JSON sent!\")\n",
    "\n",
    "    # Optionally receive a response\n",
    "    sock.settimeout(5)  # Wait up to 5 seconds for a response\n",
    "    data, server = sock.recvfrom(1024)\n",
    "    print(f\"Received response: {data.decode('utf-8')} from {server}\")\n",
    "except socket.timeout:\n",
    "    print(\"No response received.\")\n",
    "finally:\n",
    "    sock.close()\n"
   ]
  }
 ],
 "metadata": {
  "kernelspec": {
   "display_name": "Python 3",
   "language": "python",
   "name": "python3"
  },
  "language_info": {
   "codemirror_mode": {
    "name": "ipython",
    "version": 3
   },
   "file_extension": ".py",
   "mimetype": "text/x-python",
   "name": "python",
   "nbconvert_exporter": "python",
   "pygments_lexer": "ipython3",
   "version": "3.10.12"
  }
 },
 "nbformat": 4,
 "nbformat_minor": 2
}
